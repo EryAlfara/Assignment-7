{
 "cells": [
  {
   "cell_type": "code",
   "execution_count": 1,
   "id": "7abaa2b8",
   "metadata": {},
   "outputs": [],
   "source": [
    "import pandas as pd\n",
    "import numpy as np\n",
    "\n",
    "df = pd.read_csv(\"Employee Salaries Datatset.csv\")\n",
    "x = df.iloc[:, :-1].values\n",
    "y = df.iloc[:, -1].values\n",
    "\n",
    "from sklearn.model_selection import train_test_split\n",
    "X_train, X_test, y_train, y_test = train_test_split(x, y, test_size=0.20, random_state=0)\n"
   ]
  },
  {
   "cell_type": "code",
   "execution_count": 2,
   "id": "a68dfb97",
   "metadata": {},
   "outputs": [],
   "source": [
    "# Normalisasi\n",
    "from sklearn.preprocessing import MinMaxScaler\n",
    "\n",
    "X_train = MinMaxScaler().fit_transform(X_train)\n",
    "X_test = MinMaxScaler().fit_transform(X_test)"
   ]
  },
  {
   "cell_type": "code",
   "execution_count": 3,
   "id": "12243e70",
   "metadata": {},
   "outputs": [
    {
     "name": "stdout",
     "output_type": "stream",
     "text": [
      "[[0.17897538 1.         0.28571429]\n",
      " [0.24683965 0.         0.65306122]\n",
      " [0.22222222 0.         0.69387755]\n",
      " [0.11510313 1.         0.42857143]\n",
      " [0.06852961 0.         0.10204082]\n",
      " [0.75382568 0.         0.65306122]\n",
      " [0.85362608 1.         0.87755102]\n",
      " [1.         1.         1.        ]\n",
      " [0.54757152 0.         0.55102041]\n",
      " [0.11244178 1.         0.08163265]\n",
      " [0.22022621 0.         0.        ]\n",
      " [0.33466401 1.         0.67346939]\n",
      " [0.         1.         0.30612245]\n",
      " [0.00864937 1.         0.12244898]\n",
      " [0.19560878 0.         0.16326531]\n",
      " [0.65402528 0.         0.46938776]\n",
      " [0.32135729 0.         0.7755102 ]\n",
      " [0.05189621 0.         0.10204082]\n",
      " [0.22155689 1.         0.16326531]\n",
      " [0.82035928 1.         0.44897959]]\n"
     ]
    }
   ],
   "source": [
    "print(X_test)"
   ]
  },
  {
   "cell_type": "code",
   "execution_count": 4,
   "id": "e9bfe82f",
   "metadata": {},
   "outputs": [
    {
     "data": {
      "text/plain": [
       "MLPClassifier(hidden_layer_sizes=3, learning_rate_init=0.1, max_iter=100)"
      ]
     },
     "execution_count": 4,
     "metadata": {},
     "output_type": "execute_result"
    }
   ],
   "source": [
    "# clasifikasi dengan neural network \n",
    "from sklearn.neural_network import MLPClassifier\n",
    "\n",
    "clf = MLPClassifier(hidden_layer_sizes=3, learning_rate_init=0.1, max_iter=100)\n",
    "\n",
    "clf.fit(X_train, y_train)"
   ]
  },
  {
   "cell_type": "code",
   "execution_count": 5,
   "id": "42b16739",
   "metadata": {},
   "outputs": [],
   "source": [
    "y_pred = clf.predict(X_test)"
   ]
  },
  {
   "cell_type": "code",
   "execution_count": 6,
   "id": "3c997274",
   "metadata": {},
   "outputs": [
    {
     "data": {
      "text/plain": [
       "0.8"
      ]
     },
     "execution_count": 6,
     "metadata": {},
     "output_type": "execute_result"
    }
   ],
   "source": [
    "from sklearn.metrics import accuracy_score\n",
    "\n",
    "round(accuracy_score(y_test,y_pred),3)"
   ]
  },
  {
   "cell_type": "code",
   "execution_count": null,
   "id": "562d881a",
   "metadata": {},
   "outputs": [],
   "source": []
  }
 ],
 "metadata": {
  "kernelspec": {
   "display_name": "Python 3",
   "language": "python",
   "name": "python3"
  },
  "language_info": {
   "codemirror_mode": {
    "name": "ipython",
    "version": 3
   },
   "file_extension": ".py",
   "mimetype": "text/x-python",
   "name": "python",
   "nbconvert_exporter": "python",
   "pygments_lexer": "ipython3",
   "version": "3.8.8"
  }
 },
 "nbformat": 4,
 "nbformat_minor": 5
}
